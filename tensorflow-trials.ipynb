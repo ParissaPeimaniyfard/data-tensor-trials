{
 "cells": [
  {
   "cell_type": "markdown",
   "id": "c78170eb",
   "metadata": {},
   "source": [
    "## The Tensorflow Trials"
   ]
  },
  {
   "cell_type": "markdown",
   "id": "63332628",
   "metadata": {},
   "source": [
    "For much of the past week, you've been using tensors with your Deep Learning models. Over the course of today's challenges, you'll be manipulating tensors extensively and working with some unconventional model architectures. \n",
    "\n",
    "\n",
    "In this warm up, you'll be introduced to some new methods. \n",
    "\n",
    "All the methods here are going to make tackling challenges later in the day 100x easier, so if you do get stuck later on, make sure you come back here to see how you achieved the right answers. "
   ]
  },
  {
   "cell_type": "code",
   "execution_count": 3,
   "id": "c816ce96",
   "metadata": {},
   "outputs": [],
   "source": [
    "import tensorflow as tf"
   ]
  },
  {
   "cell_type": "markdown",
   "id": "8c7ad4ef",
   "metadata": {},
   "source": [
    "A) Use `tf.ones` to create a tensor `a` filled with ones of shape (3,3)."
   ]
  },
  {
   "cell_type": "code",
   "execution_count": 6,
   "id": "28d429b0",
   "metadata": {},
   "outputs": [
    {
     "data": {
      "text/plain": [
       "<tf.Tensor: shape=(3, 3), dtype=float32, numpy=\n",
       "array([[1., 1., 1.],\n",
       "       [1., 1., 1.],\n",
       "       [1., 1., 1.]], dtype=float32)>"
      ]
     },
     "execution_count": 6,
     "metadata": {},
     "output_type": "execute_result"
    }
   ],
   "source": [
    "a= tf.ones(shape=(3,3))\n",
    "a"
   ]
  },
  {
   "cell_type": "markdown",
   "id": "67c523e0",
   "metadata": {},
   "source": [
    "B) Use tf.expand_dims to make `a` an object of shape (1,3,3) called `b`."
   ]
  },
  {
   "cell_type": "code",
   "execution_count": 12,
   "id": "a925e7f7",
   "metadata": {},
   "outputs": [
    {
     "data": {
      "text/plain": [
       "<tf.Tensor: shape=(1, 3, 3), dtype=float32, numpy=\n",
       "array([[[1., 1., 1.],\n",
       "        [1., 1., 1.],\n",
       "        [1., 1., 1.]]], dtype=float32)>"
      ]
     },
     "execution_count": 12,
     "metadata": {},
     "output_type": "execute_result"
    }
   ],
   "source": [
    "b= tf.expand_dims(a, axis=0)\n",
    "b"
   ]
  },
  {
   "cell_type": "markdown",
   "id": "44a6d0e7",
   "metadata": {},
   "source": [
    "C) Create a tensor `c` filled with zeroes of size (9,1)"
   ]
  },
  {
   "cell_type": "code",
   "execution_count": 13,
   "id": "0ab8a8e0",
   "metadata": {},
   "outputs": [
    {
     "data": {
      "text/plain": [
       "<tf.Tensor: shape=(9, 1), dtype=float32, numpy=\n",
       "array([[0.],\n",
       "       [0.],\n",
       "       [0.],\n",
       "       [0.],\n",
       "       [0.],\n",
       "       [0.],\n",
       "       [0.],\n",
       "       [0.],\n",
       "       [0.]], dtype=float32)>"
      ]
     },
     "execution_count": 13,
     "metadata": {},
     "output_type": "execute_result"
    }
   ],
   "source": [
    "c= tf.zeros(shape=(9,1))\n",
    "c"
   ]
  },
  {
   "cell_type": "markdown",
   "id": "05d23fba",
   "metadata": {},
   "source": [
    "D) Reshape `c` to be of shape (1, 3, 3). Name it `d`."
   ]
  },
  {
   "cell_type": "code",
   "execution_count": 14,
   "id": "7ca36529",
   "metadata": {},
   "outputs": [
    {
     "data": {
      "text/plain": [
       "<tf.Tensor: shape=(1, 3, 3), dtype=float32, numpy=\n",
       "array([[[0., 0., 0.],\n",
       "        [0., 0., 0.],\n",
       "        [0., 0., 0.]]], dtype=float32)>"
      ]
     },
     "execution_count": 14,
     "metadata": {},
     "output_type": "execute_result"
    }
   ],
   "source": [
    "d= tf.reshape(c, shape=(1,3,3))\n",
    "d"
   ]
  },
  {
   "cell_type": "markdown",
   "id": "9eb7cdfc",
   "metadata": {},
   "source": [
    "E) Use `tf.matmul` to matrix multiply `b` and `d` with each other and now assign the tensor to `e`. "
   ]
  },
  {
   "cell_type": "code",
   "execution_count": 15,
   "id": "1aac136a",
   "metadata": {},
   "outputs": [
    {
     "data": {
      "text/plain": [
       "<tf.Tensor: shape=(1, 3, 3), dtype=float32, numpy=\n",
       "array([[[0., 0., 0.],\n",
       "        [0., 0., 0.],\n",
       "        [0., 0., 0.]]], dtype=float32)>"
      ]
     },
     "execution_count": 15,
     "metadata": {},
     "output_type": "execute_result"
    }
   ],
   "source": [
    "e= tf.matmul(b ,d)\n",
    "e"
   ]
  },
  {
   "cell_type": "markdown",
   "id": "25904313",
   "metadata": {},
   "source": [
    "F) Below is a `numpy` array. Convert it to a tensor named `array_tensor`. Then use `tf.cast` to ensure it is of dtype `float` not `int`. Assign the result to `f`."
   ]
  },
  {
   "cell_type": "code",
   "execution_count": 19,
   "id": "9efc5b3b",
   "metadata": {},
   "outputs": [],
   "source": [
    "import numpy as np\n",
    "import torch"
   ]
  },
  {
   "cell_type": "code",
   "execution_count": 18,
   "id": "83f68b09",
   "metadata": {},
   "outputs": [],
   "source": [
    "array = np.array([[\n",
    "    [1,2,3],\n",
    "    [1,2,3],\n",
    "    [4,5,6],\n",
    "    [7,8,9]\n",
    "]])"
   ]
  },
  {
   "cell_type": "code",
   "execution_count": 25,
   "id": "3952c90b",
   "metadata": {},
   "outputs": [
    {
     "data": {
      "text/plain": [
       "<tf.Tensor: shape=(1, 4, 3), dtype=float32, numpy=\n",
       "array([[[1., 2., 3.],\n",
       "        [1., 2., 3.],\n",
       "        [4., 5., 6.],\n",
       "        [7., 8., 9.]]], dtype=float32)>"
      ]
     },
     "execution_count": 25,
     "metadata": {},
     "output_type": "execute_result"
    }
   ],
   "source": [
    "array_tensor= torch.tensor(array)\n",
    "f= tf.cast(array_tensor, float)\n",
    "f"
   ]
  },
  {
   "cell_type": "markdown",
   "id": "91ebac47",
   "metadata": {},
   "source": [
    "G) Select the values in the __last column__ of `f` and save this to `g`. To be clear, `g` should have shape (4,) and contain the values `3,3,6,9`. "
   ]
  },
  {
   "cell_type": "code",
   "execution_count": 77,
   "id": "2293bcda",
   "metadata": {},
   "outputs": [
    {
     "data": {
      "text/plain": [
       "<tf.Tensor: shape=(4,), dtype=float32, numpy=array([3., 3., 6., 9.], dtype=float32)>"
      ]
     },
     "execution_count": 77,
     "metadata": {},
     "output_type": "execute_result"
    }
   ],
   "source": [
    "g= tf.reshape(f[:,:,-1], (4,))\n",
    "g"
   ]
  },
  {
   "cell_type": "markdown",
   "id": "fdc37980",
   "metadata": {},
   "source": [
    "H) Expand the dimensions of g so that it's of shape (4,1). Assign this to `h`."
   ]
  },
  {
   "cell_type": "code",
   "execution_count": 38,
   "id": "3771feed",
   "metadata": {},
   "outputs": [
    {
     "data": {
      "text/plain": [
       "<tf.Tensor: shape=(4, 1), dtype=float32, numpy=\n",
       "array([[3.],\n",
       "       [3.],\n",
       "       [6.],\n",
       "       [9.]], dtype=float32)>"
      ]
     },
     "execution_count": 38,
     "metadata": {},
     "output_type": "execute_result"
    }
   ],
   "source": [
    "h= tf.reshape(g, (4,1))\n",
    "h"
   ]
  },
  {
   "cell_type": "markdown",
   "id": "56dbc038",
   "metadata": {},
   "source": [
    "H) Multiply e with f, using `tf.matmul` with the optional `transpose_b` argument (`e` must come first in your positional arguments, then `f`). Assign this to `h`."
   ]
  },
  {
   "cell_type": "code",
   "execution_count": 44,
   "id": "d9dcb349",
   "metadata": {},
   "outputs": [
    {
     "data": {
      "text/plain": [
       "<tf.Tensor: shape=(1, 3, 4), dtype=float32, numpy=\n",
       "array([[[0., 0., 0., 0.],\n",
       "        [0., 0., 0., 0.],\n",
       "        [0., 0., 0., 0.]]], dtype=float32)>"
      ]
     },
     "execution_count": 44,
     "metadata": {},
     "output_type": "execute_result"
    }
   ],
   "source": [
    "h= tf.matmul(e,f, transpose_a=True, transpose_b=True)\n",
    "h"
   ]
  },
  {
   "cell_type": "markdown",
   "id": "4b2645a2",
   "metadata": {},
   "source": [
    "I) Create a `(10,10)` tensor filled with ones. Then use `tf.linalg.band_part()` to mask out the upper triangle of the matrix (i.e. the upper triangle should all be 0s). Assign to `i`."
   ]
  },
  {
   "cell_type": "code",
   "execution_count": 53,
   "id": "10d07880",
   "metadata": {},
   "outputs": [
    {
     "data": {
      "text/plain": [
       "<tf.Tensor: shape=(10, 10), dtype=float32, numpy=\n",
       "array([[1., 0., 0., 0., 0., 0., 0., 0., 0., 0.],\n",
       "       [1., 1., 0., 0., 0., 0., 0., 0., 0., 0.],\n",
       "       [1., 1., 1., 0., 0., 0., 0., 0., 0., 0.],\n",
       "       [1., 1., 1., 1., 0., 0., 0., 0., 0., 0.],\n",
       "       [1., 1., 1., 1., 1., 0., 0., 0., 0., 0.],\n",
       "       [1., 1., 1., 1., 1., 1., 0., 0., 0., 0.],\n",
       "       [1., 1., 1., 1., 1., 1., 1., 0., 0., 0.],\n",
       "       [1., 1., 1., 1., 1., 1., 1., 1., 0., 0.],\n",
       "       [1., 1., 1., 1., 1., 1., 1., 1., 1., 0.],\n",
       "       [1., 1., 1., 1., 1., 1., 1., 1., 1., 1.]], dtype=float32)>"
      ]
     },
     "execution_count": 53,
     "metadata": {},
     "output_type": "execute_result"
    }
   ],
   "source": [
    "one_matris= tf.ones(shape=(10,10))\n",
    "i= tf.linalg.band_part(input=one_matris, num_upper=0, num_lower=-1)\n",
    "i"
   ]
  },
  {
   "cell_type": "markdown",
   "id": "251f79fd",
   "metadata": {},
   "source": [
    "J) Take the `number_list` below and make it a tensor. Assign it to `j`."
   ]
  },
  {
   "cell_type": "code",
   "execution_count": 54,
   "id": "7a3bdfb3",
   "metadata": {},
   "outputs": [],
   "source": [
    "number_list = [1,2,3,4,8]"
   ]
  },
  {
   "cell_type": "code",
   "execution_count": 57,
   "id": "9f727f45",
   "metadata": {},
   "outputs": [
    {
     "data": {
      "text/plain": [
       "tensor([1, 2, 3, 4, 8])"
      ]
     },
     "execution_count": 57,
     "metadata": {},
     "output_type": "execute_result"
    }
   ],
   "source": [
    "j= torch.tensor(number_list)\n",
    "j"
   ]
  },
  {
   "cell_type": "markdown",
   "id": "bb1f3a44",
   "metadata": {},
   "source": [
    "K) Use `tf.expand_dims` to make `j` into a tensor of shape (1,5). Assign to `k`."
   ]
  },
  {
   "cell_type": "code",
   "execution_count": 59,
   "id": "5d3dcf2e",
   "metadata": {},
   "outputs": [
    {
     "data": {
      "text/plain": [
       "<tf.Tensor: shape=(1, 5), dtype=int64, numpy=array([[1, 2, 3, 4, 8]])>"
      ]
     },
     "execution_count": 59,
     "metadata": {},
     "output_type": "execute_result"
    }
   ],
   "source": [
    "k= tf.expand_dims(j, axis=0)\n",
    "k"
   ]
  },
  {
   "cell_type": "markdown",
   "id": "9e092b7d",
   "metadata": {},
   "source": [
    "L) Use `tf.tile` to repeat `k` 50 times, with an eventual shape of `(50,5)`. Assign to `l`."
   ]
  },
  {
   "cell_type": "code",
   "execution_count": 79,
   "id": "02e8a820",
   "metadata": {},
   "outputs": [
    {
     "data": {
      "text/plain": [
       "<tf.Tensor: shape=(50, 5), dtype=int64, numpy=\n",
       "array([[1, 2, 3, 4, 8],\n",
       "       [1, 2, 3, 4, 8],\n",
       "       [1, 2, 3, 4, 8],\n",
       "       [1, 2, 3, 4, 8],\n",
       "       [1, 2, 3, 4, 8],\n",
       "       [1, 2, 3, 4, 8],\n",
       "       [1, 2, 3, 4, 8],\n",
       "       [1, 2, 3, 4, 8],\n",
       "       [1, 2, 3, 4, 8],\n",
       "       [1, 2, 3, 4, 8],\n",
       "       [1, 2, 3, 4, 8],\n",
       "       [1, 2, 3, 4, 8],\n",
       "       [1, 2, 3, 4, 8],\n",
       "       [1, 2, 3, 4, 8],\n",
       "       [1, 2, 3, 4, 8],\n",
       "       [1, 2, 3, 4, 8],\n",
       "       [1, 2, 3, 4, 8],\n",
       "       [1, 2, 3, 4, 8],\n",
       "       [1, 2, 3, 4, 8],\n",
       "       [1, 2, 3, 4, 8],\n",
       "       [1, 2, 3, 4, 8],\n",
       "       [1, 2, 3, 4, 8],\n",
       "       [1, 2, 3, 4, 8],\n",
       "       [1, 2, 3, 4, 8],\n",
       "       [1, 2, 3, 4, 8],\n",
       "       [1, 2, 3, 4, 8],\n",
       "       [1, 2, 3, 4, 8],\n",
       "       [1, 2, 3, 4, 8],\n",
       "       [1, 2, 3, 4, 8],\n",
       "       [1, 2, 3, 4, 8],\n",
       "       [1, 2, 3, 4, 8],\n",
       "       [1, 2, 3, 4, 8],\n",
       "       [1, 2, 3, 4, 8],\n",
       "       [1, 2, 3, 4, 8],\n",
       "       [1, 2, 3, 4, 8],\n",
       "       [1, 2, 3, 4, 8],\n",
       "       [1, 2, 3, 4, 8],\n",
       "       [1, 2, 3, 4, 8],\n",
       "       [1, 2, 3, 4, 8],\n",
       "       [1, 2, 3, 4, 8],\n",
       "       [1, 2, 3, 4, 8],\n",
       "       [1, 2, 3, 4, 8],\n",
       "       [1, 2, 3, 4, 8],\n",
       "       [1, 2, 3, 4, 8],\n",
       "       [1, 2, 3, 4, 8],\n",
       "       [1, 2, 3, 4, 8],\n",
       "       [1, 2, 3, 4, 8],\n",
       "       [1, 2, 3, 4, 8],\n",
       "       [1, 2, 3, 4, 8],\n",
       "       [1, 2, 3, 4, 8]])>"
      ]
     },
     "execution_count": 79,
     "metadata": {},
     "output_type": "execute_result"
    }
   ],
   "source": [
    "l= tf.tile(input=k, multiples=[50,1])\n",
    "l"
   ]
  },
  {
   "cell_type": "markdown",
   "id": "80f0a8e7",
   "metadata": {},
   "source": [
    "M) Use a simple Boolean statement to create a tensor containing `True` values for where `l` is 3  and `False` for where it is not 3. Assign to `m`"
   ]
  },
  {
   "cell_type": "code",
   "execution_count": 80,
   "id": "870c2d7f",
   "metadata": {},
   "outputs": [
    {
     "data": {
      "text/plain": [
       "<tf.Tensor: shape=(50, 5), dtype=bool, numpy=\n",
       "array([[False, False,  True, False, False],\n",
       "       [False, False,  True, False, False],\n",
       "       [False, False,  True, False, False],\n",
       "       [False, False,  True, False, False],\n",
       "       [False, False,  True, False, False],\n",
       "       [False, False,  True, False, False],\n",
       "       [False, False,  True, False, False],\n",
       "       [False, False,  True, False, False],\n",
       "       [False, False,  True, False, False],\n",
       "       [False, False,  True, False, False],\n",
       "       [False, False,  True, False, False],\n",
       "       [False, False,  True, False, False],\n",
       "       [False, False,  True, False, False],\n",
       "       [False, False,  True, False, False],\n",
       "       [False, False,  True, False, False],\n",
       "       [False, False,  True, False, False],\n",
       "       [False, False,  True, False, False],\n",
       "       [False, False,  True, False, False],\n",
       "       [False, False,  True, False, False],\n",
       "       [False, False,  True, False, False],\n",
       "       [False, False,  True, False, False],\n",
       "       [False, False,  True, False, False],\n",
       "       [False, False,  True, False, False],\n",
       "       [False, False,  True, False, False],\n",
       "       [False, False,  True, False, False],\n",
       "       [False, False,  True, False, False],\n",
       "       [False, False,  True, False, False],\n",
       "       [False, False,  True, False, False],\n",
       "       [False, False,  True, False, False],\n",
       "       [False, False,  True, False, False],\n",
       "       [False, False,  True, False, False],\n",
       "       [False, False,  True, False, False],\n",
       "       [False, False,  True, False, False],\n",
       "       [False, False,  True, False, False],\n",
       "       [False, False,  True, False, False],\n",
       "       [False, False,  True, False, False],\n",
       "       [False, False,  True, False, False],\n",
       "       [False, False,  True, False, False],\n",
       "       [False, False,  True, False, False],\n",
       "       [False, False,  True, False, False],\n",
       "       [False, False,  True, False, False],\n",
       "       [False, False,  True, False, False],\n",
       "       [False, False,  True, False, False],\n",
       "       [False, False,  True, False, False],\n",
       "       [False, False,  True, False, False],\n",
       "       [False, False,  True, False, False],\n",
       "       [False, False,  True, False, False],\n",
       "       [False, False,  True, False, False],\n",
       "       [False, False,  True, False, False],\n",
       "       [False, False,  True, False, False]])>"
      ]
     },
     "execution_count": 80,
     "metadata": {},
     "output_type": "execute_result"
    }
   ],
   "source": [
    "m= tf.equal(l,3)\n",
    "m"
   ]
  },
  {
   "cell_type": "markdown",
   "id": "1a98be77",
   "metadata": {},
   "source": [
    "N) Divide every value in you variable `l` (read as \"L\") by 3. Assign to `n`."
   ]
  },
  {
   "cell_type": "code",
   "execution_count": 81,
   "id": "f7606d45",
   "metadata": {},
   "outputs": [
    {
     "data": {
      "text/plain": [
       "<tf.Tensor: shape=(50, 5), dtype=float64, numpy=\n",
       "array([[0.33333333, 0.66666667, 1.        , 1.33333333, 2.66666667],\n",
       "       [0.33333333, 0.66666667, 1.        , 1.33333333, 2.66666667],\n",
       "       [0.33333333, 0.66666667, 1.        , 1.33333333, 2.66666667],\n",
       "       [0.33333333, 0.66666667, 1.        , 1.33333333, 2.66666667],\n",
       "       [0.33333333, 0.66666667, 1.        , 1.33333333, 2.66666667],\n",
       "       [0.33333333, 0.66666667, 1.        , 1.33333333, 2.66666667],\n",
       "       [0.33333333, 0.66666667, 1.        , 1.33333333, 2.66666667],\n",
       "       [0.33333333, 0.66666667, 1.        , 1.33333333, 2.66666667],\n",
       "       [0.33333333, 0.66666667, 1.        , 1.33333333, 2.66666667],\n",
       "       [0.33333333, 0.66666667, 1.        , 1.33333333, 2.66666667],\n",
       "       [0.33333333, 0.66666667, 1.        , 1.33333333, 2.66666667],\n",
       "       [0.33333333, 0.66666667, 1.        , 1.33333333, 2.66666667],\n",
       "       [0.33333333, 0.66666667, 1.        , 1.33333333, 2.66666667],\n",
       "       [0.33333333, 0.66666667, 1.        , 1.33333333, 2.66666667],\n",
       "       [0.33333333, 0.66666667, 1.        , 1.33333333, 2.66666667],\n",
       "       [0.33333333, 0.66666667, 1.        , 1.33333333, 2.66666667],\n",
       "       [0.33333333, 0.66666667, 1.        , 1.33333333, 2.66666667],\n",
       "       [0.33333333, 0.66666667, 1.        , 1.33333333, 2.66666667],\n",
       "       [0.33333333, 0.66666667, 1.        , 1.33333333, 2.66666667],\n",
       "       [0.33333333, 0.66666667, 1.        , 1.33333333, 2.66666667],\n",
       "       [0.33333333, 0.66666667, 1.        , 1.33333333, 2.66666667],\n",
       "       [0.33333333, 0.66666667, 1.        , 1.33333333, 2.66666667],\n",
       "       [0.33333333, 0.66666667, 1.        , 1.33333333, 2.66666667],\n",
       "       [0.33333333, 0.66666667, 1.        , 1.33333333, 2.66666667],\n",
       "       [0.33333333, 0.66666667, 1.        , 1.33333333, 2.66666667],\n",
       "       [0.33333333, 0.66666667, 1.        , 1.33333333, 2.66666667],\n",
       "       [0.33333333, 0.66666667, 1.        , 1.33333333, 2.66666667],\n",
       "       [0.33333333, 0.66666667, 1.        , 1.33333333, 2.66666667],\n",
       "       [0.33333333, 0.66666667, 1.        , 1.33333333, 2.66666667],\n",
       "       [0.33333333, 0.66666667, 1.        , 1.33333333, 2.66666667],\n",
       "       [0.33333333, 0.66666667, 1.        , 1.33333333, 2.66666667],\n",
       "       [0.33333333, 0.66666667, 1.        , 1.33333333, 2.66666667],\n",
       "       [0.33333333, 0.66666667, 1.        , 1.33333333, 2.66666667],\n",
       "       [0.33333333, 0.66666667, 1.        , 1.33333333, 2.66666667],\n",
       "       [0.33333333, 0.66666667, 1.        , 1.33333333, 2.66666667],\n",
       "       [0.33333333, 0.66666667, 1.        , 1.33333333, 2.66666667],\n",
       "       [0.33333333, 0.66666667, 1.        , 1.33333333, 2.66666667],\n",
       "       [0.33333333, 0.66666667, 1.        , 1.33333333, 2.66666667],\n",
       "       [0.33333333, 0.66666667, 1.        , 1.33333333, 2.66666667],\n",
       "       [0.33333333, 0.66666667, 1.        , 1.33333333, 2.66666667],\n",
       "       [0.33333333, 0.66666667, 1.        , 1.33333333, 2.66666667],\n",
       "       [0.33333333, 0.66666667, 1.        , 1.33333333, 2.66666667],\n",
       "       [0.33333333, 0.66666667, 1.        , 1.33333333, 2.66666667],\n",
       "       [0.33333333, 0.66666667, 1.        , 1.33333333, 2.66666667],\n",
       "       [0.33333333, 0.66666667, 1.        , 1.33333333, 2.66666667],\n",
       "       [0.33333333, 0.66666667, 1.        , 1.33333333, 2.66666667],\n",
       "       [0.33333333, 0.66666667, 1.        , 1.33333333, 2.66666667],\n",
       "       [0.33333333, 0.66666667, 1.        , 1.33333333, 2.66666667],\n",
       "       [0.33333333, 0.66666667, 1.        , 1.33333333, 2.66666667],\n",
       "       [0.33333333, 0.66666667, 1.        , 1.33333333, 2.66666667]])>"
      ]
     },
     "execution_count": 81,
     "metadata": {},
     "output_type": "execute_result"
    }
   ],
   "source": [
    "n= tf.divide(l, 3)\n",
    "n"
   ]
  },
  {
   "cell_type": "markdown",
   "id": "1591f3c3",
   "metadata": {},
   "source": [
    "O) Use `tf.concat()` to take the list of two tensors below of shape (5,5) and (5,5) each and turn them into a final tensor of shape (10,5). Assign to `o`. Think carefully about the concation axis."
   ]
  },
  {
   "cell_type": "code",
   "execution_count": 70,
   "id": "4b814e02",
   "metadata": {},
   "outputs": [],
   "source": [
    "tensor_list = [tf.ones((5,5)), tf.ones((5,5))]"
   ]
  },
  {
   "cell_type": "code",
   "execution_count": 72,
   "id": "1846c2c2",
   "metadata": {},
   "outputs": [
    {
     "data": {
      "text/plain": [
       "<tf.Tensor: shape=(10, 5), dtype=float32, numpy=\n",
       "array([[1., 1., 1., 1., 1.],\n",
       "       [1., 1., 1., 1., 1.],\n",
       "       [1., 1., 1., 1., 1.],\n",
       "       [1., 1., 1., 1., 1.],\n",
       "       [1., 1., 1., 1., 1.],\n",
       "       [1., 1., 1., 1., 1.],\n",
       "       [1., 1., 1., 1., 1.],\n",
       "       [1., 1., 1., 1., 1.],\n",
       "       [1., 1., 1., 1., 1.],\n",
       "       [1., 1., 1., 1., 1.]], dtype=float32)>"
      ]
     },
     "execution_count": 72,
     "metadata": {},
     "output_type": "execute_result"
    }
   ],
   "source": [
    "o= tf.concat(tensor_list, axis=0)\n",
    "o"
   ]
  },
  {
   "cell_type": "markdown",
   "id": "ea4f3586",
   "metadata": {},
   "source": [
    "### Check your answers"
   ]
  },
  {
   "cell_type": "code",
   "execution_count": 82,
   "id": "9e19b8c4",
   "metadata": {},
   "outputs": [
    {
     "name": "stdout",
     "output_type": "stream",
     "text": [
      "\n",
      "\u001b[1m============================= test session starts ==============================\u001b[0m\n",
      "platform linux -- Python 3.10.6, pytest-7.1.3, pluggy-1.0.0 -- /home/parissa/.pyenv/versions/lewagon/bin/python3\n",
      "cachedir: .pytest_cache\n",
      "rootdir: /home/parissa/code/ParissaPeimaniyfard/06-Deep-Learning/05-Transformers/data-tensor-trials/tests\n",
      "plugins: typeguard-2.13.3, anyio-3.6.2, asyncio-0.19.0\n",
      "asyncio: mode=strict\n",
      "\u001b[1mcollecting ... \u001b[0mcollected 15 items\n",
      "\n",
      "test_tensors.py::TestTensors::test_a \u001b[32mPASSED\u001b[0m\u001b[32m                              [  6%]\u001b[0m\n",
      "test_tensors.py::TestTensors::test_b \u001b[32mPASSED\u001b[0m\u001b[32m                              [ 13%]\u001b[0m\n",
      "test_tensors.py::TestTensors::test_c \u001b[32mPASSED\u001b[0m\u001b[32m                              [ 20%]\u001b[0m\n",
      "test_tensors.py::TestTensors::test_d_shape \u001b[32mPASSED\u001b[0m\u001b[32m                        [ 26%]\u001b[0m\n",
      "test_tensors.py::TestTensors::test_e \u001b[32mPASSED\u001b[0m\u001b[32m                              [ 33%]\u001b[0m\n",
      "test_tensors.py::TestTensors::test_f \u001b[32mPASSED\u001b[0m\u001b[32m                              [ 40%]\u001b[0m\n",
      "test_tensors.py::TestTensors::test_g \u001b[32mPASSED\u001b[0m\u001b[32m                              [ 46%]\u001b[0m\n",
      "test_tensors.py::TestTensors::test_h \u001b[32mPASSED\u001b[0m\u001b[32m                              [ 53%]\u001b[0m\n",
      "test_tensors.py::TestTensors::test_i \u001b[32mPASSED\u001b[0m\u001b[32m                              [ 60%]\u001b[0m\n",
      "test_tensors.py::TestTensors::test_j \u001b[32mPASSED\u001b[0m\u001b[32m                              [ 66%]\u001b[0m\n",
      "test_tensors.py::TestTensors::test_k \u001b[32mPASSED\u001b[0m\u001b[32m                              [ 73%]\u001b[0m\n",
      "test_tensors.py::TestTensors::test_l \u001b[32mPASSED\u001b[0m\u001b[32m                              [ 80%]\u001b[0m\n",
      "test_tensors.py::TestTensors::test_m \u001b[32mPASSED\u001b[0m\u001b[32m                              [ 86%]\u001b[0m\n",
      "test_tensors.py::TestTensors::test_n \u001b[32mPASSED\u001b[0m\u001b[32m                              [ 93%]\u001b[0m\n",
      "test_tensors.py::TestTensors::test_o_shape \u001b[32mPASSED\u001b[0m\u001b[32m                        [100%]\u001b[0m\n",
      "\n",
      "\u001b[32m============================== \u001b[32m\u001b[1m15 passed\u001b[0m\u001b[32m in 2.73s\u001b[0m\u001b[32m ==============================\u001b[0m\n",
      "\n",
      "\n",
      "💯 You can commit your code:\n",
      "\n",
      "\u001b[1;32mgit\u001b[39m add tests/tensors.pickle\n",
      "\n",
      "\u001b[32mgit\u001b[39m commit -m \u001b[33m'Completed tensors step'\u001b[39m\n",
      "\n",
      "\u001b[32mgit\u001b[39m push origin master\n",
      "\n"
     ]
    }
   ],
   "source": [
    "from nbresult import ChallengeResult\n",
    "\n",
    "result = ChallengeResult('tensors',\n",
    "                            a = a,\n",
    "                            b = b,\n",
    "                            c = c,\n",
    "                            d_shape = d.shape,\n",
    "                            e = e,\n",
    "                            f = f, \n",
    "                            g = g,\n",
    "                            h = h,\n",
    "                            i = i,\n",
    "                            j = j,\n",
    "                            k = k,\n",
    "                            l = l,\n",
    "                            m = m,\n",
    "                            n = n, \n",
    "                            o_shape = o.shape\n",
    ")\n",
    "\n",
    "result.write()\n",
    "print(result.check())"
   ]
  },
  {
   "cell_type": "markdown",
   "id": "2212c0cc",
   "metadata": {},
   "source": [
    "### Great work 🔥\n",
    "\n",
    "Now it's time to get stuck into some modelling!"
   ]
  }
 ],
 "metadata": {
  "kernelspec": {
   "display_name": "Python 3 (ipykernel)",
   "language": "python",
   "name": "python3"
  },
  "language_info": {
   "codemirror_mode": {
    "name": "ipython",
    "version": 3
   },
   "file_extension": ".py",
   "mimetype": "text/x-python",
   "name": "python",
   "nbconvert_exporter": "python",
   "pygments_lexer": "ipython3",
   "version": "3.10.6"
  },
  "toc": {
   "base_numbering": 1,
   "nav_menu": {},
   "number_sections": true,
   "sideBar": true,
   "skip_h1_title": false,
   "title_cell": "Table of Contents",
   "title_sidebar": "Contents",
   "toc_cell": false,
   "toc_position": {},
   "toc_section_display": true,
   "toc_window_display": false
  }
 },
 "nbformat": 4,
 "nbformat_minor": 5
}
